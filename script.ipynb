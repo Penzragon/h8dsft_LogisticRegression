{
 "cells": [
  {
   "cell_type": "markdown",
   "metadata": {},
   "source": [
    "# Hacktiv8 Phase 1: Non Graded Challenge 1\n",
    "\n",
    "---\n",
    "\n",
    "Non-Graded Assignment ini dibuat guna mengevaluasi pembelajaran pada Hacktiv8 Data Science Fulltime Program khususnya pada konsep Logistic Regression."
   ]
  },
  {
   "cell_type": "markdown",
   "metadata": {},
   "source": [
    "## Introduction"
   ]
  },
  {
   "cell_type": "markdown",
   "metadata": {},
   "source": [
    "By [Rifky Aliffa](https://github.com/Penzragon)"
   ]
  },
  {
   "cell_type": "markdown",
   "metadata": {},
   "source": [
    "### Dataset"
   ]
  },
  {
   "cell_type": "markdown",
   "metadata": {},
   "source": [
    "Dataset yang digunakan dalam project ini adalah dataset stroke yang berisi 5110 baris dengan 12 kolom yang diantaranya adalah id, gender, age, hypertension, heart_disease, ever_married, work_type, residence_type, avg_glucose_level, bmi, smoking_status, dan stroke. Dataset dapat dilihat di [Kaggle](https://www.kaggle.com/fedesoriano/stroke-prediction-dataset).\n",
    "\n",
    "Keterangan kolom pada dataset ini adalah:\n",
    "\n",
    "| Feature           | Description                                                                            |\n",
    "| ----------------- | -------------------------------------------------------------------------------------- |\n",
    "| id                | unique identifier                                                                      |\n",
    "| gender            | \"Male\", \"Female\" or \"Other\"                                                            |\n",
    "| age               | age of the patient                                                                     |\n",
    "| hypertension      | 0 if the patient doesn't have hypertension, 1 if the patient has hypertension          |\n",
    "| heart_disease     | 0 if the patient doesn't have any heart diseases, 1 if the patient has a heart disease |\n",
    "| ever_married      | \"No\" or \"Yes\"                                                                          |\n",
    "| work_type         | \"children\", \"Govt_jov\", \"Never_worked\", \"Private\" or \"Self-employed\"                   |\n",
    "| Residence_type    | \"Rural\" or \"Urban\"                                                                     |\n",
    "| avg_glucose_level | average glucose level in blood                                                         |\n",
    "| bmi               | body mass index                                                                        |\n",
    "| smoking_status    | \"formerly smoked\", \"never smoked\", \"smokes\" or \"Unknown\"                               |\n",
    "| stroke            | 1 if the patient had a stroke or 0 if not                                              |\n"
   ]
  },
  {
   "cell_type": "markdown",
   "metadata": {},
   "source": [
    "### Objectives"
   ]
  },
  {
   "cell_type": "markdown",
   "metadata": {},
   "source": [
    "- Lakukan cleaning dan preprocessing terhadap data yang akan dipakai.\n",
    "- Buat sebuah classification model dengan menggunakan Logistic Regression dengan stroke prediction sebagai target."
   ]
  },
  {
   "cell_type": "markdown",
   "metadata": {},
   "source": [
    "## Import Libraries"
   ]
  },
  {
   "cell_type": "markdown",
   "metadata": {},
   "source": [
    "Pada project ini library yang akan digunakan adalah **Pandas**, **Numpy**, **Matplotlib**, **Seaborn**, dan **scikit-learn**."
   ]
  },
  {
   "cell_type": "code",
   "execution_count": 1,
   "metadata": {},
   "outputs": [],
   "source": [
    "import pandas as pd\n",
    "import numpy as np\n",
    "import matplotlib.pyplot as plt\n",
    "import seaborn as sns\n",
    "from sklearn.model_selection import train_test_split\n",
    "from sklearn.linear_model import LinearRegression\n",
    "from sklearn.metrics import mean_squared_error"
   ]
  }
 ],
 "metadata": {
  "interpreter": {
   "hash": "112f40161e87cdf99d798de2b86adf76c0b833717b9d65fa1f256b9c887e27bf"
  },
  "kernelspec": {
   "display_name": "Python 3.9.1 64-bit",
   "language": "python",
   "name": "python3"
  },
  "language_info": {
   "codemirror_mode": {
    "name": "ipython",
    "version": 3
   },
   "file_extension": ".py",
   "mimetype": "text/x-python",
   "name": "python",
   "nbconvert_exporter": "python",
   "pygments_lexer": "ipython3",
   "version": "3.9.1"
  },
  "orig_nbformat": 4
 },
 "nbformat": 4,
 "nbformat_minor": 2
}
